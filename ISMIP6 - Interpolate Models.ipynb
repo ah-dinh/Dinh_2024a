{
 "cells": [
  {
   "cell_type": "code",
   "execution_count": 1,
   "id": "forward-shock",
   "metadata": {},
   "outputs": [],
   "source": [
    "import numpy as np\n",
    "import netCDF4 as nc\n",
    "from tqdm import tqdm\n",
    "import os"
   ]
  },
  {
   "cell_type": "code",
   "execution_count": 2,
   "id": "spanish-array",
   "metadata": {},
   "outputs": [],
   "source": [
    "## 8Km by 8 Km by 20m grid\n",
    "cube = nc.Dataset('/data/SO2/SO24/ANDY/SOHI/Data/Obs_Climatology/ISMIP6/obs_temperature_1995-2017_8km_x_60m.nc')\n",
    "LONS = cube['lon'][:]\n",
    "LATS = cube['lat'][:]\n",
    "DEPTHS = np.arange(-10, -3000, -20)"
   ]
  },
  {
   "cell_type": "markdown",
   "id": "diagnostic-orchestra",
   "metadata": {},
   "source": [
    "# Create Maping indices"
   ]
  },
  {
   "cell_type": "markdown",
   "id": "tested-press",
   "metadata": {},
   "source": [
    "### SOHI"
   ]
  },
  {
   "cell_type": "code",
   "execution_count": 9,
   "id": "protective-basics",
   "metadata": {},
   "outputs": [],
   "source": [
    "## SOHI \n",
    "cube = nc.Dataset('/data/SO2/SO24/ANDY/SOHI/Data/Models/SOHI/Monthly_Mean/2005_12.nc')\n",
    "XC = cube['lon'][:]\n",
    "YC = cube['lat'][:]\n",
    "RC = cube['depth'][:]"
   ]
  },
  {
   "cell_type": "code",
   "execution_count": 17,
   "id": "written-portrait",
   "metadata": {},
   "outputs": [
    {
     "name": "stderr",
     "output_type": "stream",
     "text": [
      "100%|█████████████████████████████████████████| 761/761 [01:34<00:00,  8.08it/s]\n"
     ]
    }
   ],
   "source": [
    "indices = [[],[]]\n",
    "\n",
    "for i in tqdm(range(LONS.shape[0])):\n",
    "    for j in range(LONS.shape[1]):\n",
    "        indices[1].append(np.argmin(abs(XC - LONS[i,j])))\n",
    "        indices[0].append(np.argmin(abs(YC - LATS[i,j])))\n",
    "indices = np.asarray(indices)\n",
    "\n",
    "np.save('map_index/SOHI.npy', indices)"
   ]
  },
  {
   "cell_type": "markdown",
   "id": "comparable-absorption",
   "metadata": {},
   "source": [
    "### SOSE"
   ]
  },
  {
   "cell_type": "code",
   "execution_count": 30,
   "id": "alive-concentrate",
   "metadata": {},
   "outputs": [],
   "source": [
    "## SOSE \n",
    "cube = nc.Dataset('/data/SO2/SO24/ANDY/SOHI/Data/Models/SOSE/SOSE_iter100.nc')\n",
    "XC = cube['lon'][:]\n",
    "YC = cube['lat'][:]\n",
    "RC = cube['depth'][:]"
   ]
  },
  {
   "cell_type": "code",
   "execution_count": 32,
   "id": "informative-financing",
   "metadata": {},
   "outputs": [
    {
     "name": "stderr",
     "output_type": "stream",
     "text": [
      "100%|█████████████████████████████████████████| 761/761 [01:15<00:00, 10.04it/s]\n"
     ]
    }
   ],
   "source": [
    "indices = [[],[]]\n",
    "\n",
    "for i in tqdm(range(LONS.shape[0])):\n",
    "    for j in range(LONS.shape[1]):\n",
    "        indices[1].append(np.argmin(abs(XC - LONS[i,j])))\n",
    "        indices[0].append(np.argmin(abs(YC - LATS[i,j])))\n",
    "indices = np.asarray(indices)\n",
    "\n",
    "np.save('map_index/SOSE.npy', indices)"
   ]
  },
  {
   "cell_type": "markdown",
   "id": "crude-exposure",
   "metadata": {},
   "source": [
    "### LLC4320"
   ]
  },
  {
   "cell_type": "code",
   "execution_count": 33,
   "id": "gothic-steam",
   "metadata": {},
   "outputs": [],
   "source": [
    "## LLC4320\n",
    "XC = np.load(\"/data/SO2/SO24/ANDY/SOHI/Data/Models/LLC4320/meta/XC.npy\")\n",
    "XC=XC[:-1,:]\n",
    "YC = np.load(\"/data/SO2/SO24/ANDY/SOHI/Data/Models/LLC4320/meta/YC.npy\")\n",
    "YC=YC[:-1,:]"
   ]
  },
  {
   "cell_type": "code",
   "execution_count": 34,
   "id": "capable-calendar",
   "metadata": {},
   "outputs": [],
   "source": [
    "import dask\n",
    "from dask.diagnostics import ProgressBar"
   ]
  },
  {
   "cell_type": "code",
   "execution_count": 35,
   "id": "sufficient-hungarian",
   "metadata": {},
   "outputs": [],
   "source": [
    "ProgressBar().register()"
   ]
  },
  {
   "cell_type": "code",
   "execution_count": 36,
   "id": "professional-mirror",
   "metadata": {},
   "outputs": [],
   "source": [
    "@dask.delayed(nout=2)\n",
    "def find(YC, XC, lat, lon):\n",
    "    i1 = (XC - lon)**2\n",
    "    i2 = (YC - lat)**2\n",
    "    try:\n",
    "        i3 = i1 + i2\n",
    "    except:\n",
    "        print(lat, lon, i1.shape, i2.shape)\n",
    "        raise ValueError()\n",
    "    where = np.where(i3 == i3.min())\n",
    "    return where[0][0], where[1][0] ## Return row, column"
   ]
  },
  {
   "cell_type": "code",
   "execution_count": 37,
   "id": "generous-ancient",
   "metadata": {
    "scrolled": true
   },
   "outputs": [
    {
     "name": "stderr",
     "output_type": "stream",
     "text": [
      "100%|█████████████████████████████████████████| 761/761 [01:23<00:00,  9.12it/s]\n"
     ]
    },
    {
     "name": "stdout",
     "output_type": "stream",
     "text": [
      "[########################################] | 100% Completed |  5hr 48min 32.8s\n",
      "[########################################] | 100% Completed |  4hr 29min 22.6s\n"
     ]
    }
   ],
   "source": [
    "indices=[[],[]]\n",
    "\n",
    "for i in tqdm(range(LONS.shape[0])):\n",
    "    for j in range(LONS.shape[1]):\n",
    "        idy, idx = find(YC, XC, LATS[i,j], LONS[i,j])\n",
    "        indices[0].append(idy)\n",
    "        indices[1].append(idx)\n",
    "        \n",
    "idy = dask.compute(indices[0])\n",
    "idx = dask.compute(indices[1])\n",
    "\n",
    "indices = np.asarray([idy, idx])\n",
    "np.save('map_index/LLC4320.npy', indices)"
   ]
  },
  {
   "cell_type": "markdown",
   "id": "premium-listening",
   "metadata": {},
   "source": [
    "### LLC90"
   ]
  },
  {
   "cell_type": "code",
   "execution_count": 40,
   "id": "confident-crawford",
   "metadata": {},
   "outputs": [],
   "source": [
    "## ECCO \n",
    "cube = nc.Dataset(\"/data/SO2/SO24/ANDY/SOHI/Data/Models/ECCO/LLC90_v4r4.nc\")\n",
    "XC = cube['lon'][:]\n",
    "YC = cube['lat'][:]\n",
    "RC = cube['depth'][:]"
   ]
  },
  {
   "cell_type": "code",
   "execution_count": 41,
   "id": "transsexual-heather",
   "metadata": {},
   "outputs": [
    {
     "name": "stderr",
     "output_type": "stream",
     "text": [
      "100%|█████████████████████████████████████████| 761/761 [01:06<00:00, 11.51it/s]\n"
     ]
    },
    {
     "name": "stdout",
     "output_type": "stream",
     "text": [
      "[########################################] | 100% Completed |  8min 58.8s\n",
      "[########################################] | 100% Completed |  8min 53.2s\n"
     ]
    }
   ],
   "source": [
    "indices=[[],[]]\n",
    "\n",
    "for i in tqdm(range(LONS.shape[0])):\n",
    "    for j in range(LONS.shape[1]):\n",
    "        idy, idx = find(YC, XC, LATS[i,j], LONS[i,j])\n",
    "        indices[0].append(idy)\n",
    "        indices[1].append(idx)\n",
    "        \n",
    "idy = dask.compute(indices[0])\n",
    "idx = dask.compute(indices[1])\n",
    "\n",
    "indices = np.asarray([idy, idx])\n",
    "np.save('map_index/LLC90.npy', indices)"
   ]
  },
  {
   "cell_type": "markdown",
   "id": "earlier-palestine",
   "metadata": {},
   "source": [
    "# Map Models"
   ]
  },
  {
   "cell_type": "code",
   "execution_count": 7,
   "id": "polish-comfort",
   "metadata": {},
   "outputs": [],
   "source": [
    "def sample(og, og_RC, ref_RC, idy, idx, n=2):\n",
    "    data = np.zeros((150,761,761))\n",
    "    \n",
    "    zdim = data.shape[0]\n",
    "    ydim = data.shape[1]\n",
    "    xdim = data.shape[2]\n",
    "    \n",
    "    count = 0\n",
    "    for i in tqdm(range(761)):\n",
    "        for j in range(761):\n",
    "            iy = idy[count]\n",
    "            ix = idx[count]\n",
    "            count += 1\n",
    "            \n",
    "            min_x = np.max([0, ix-n])\n",
    "            max_x = np.min([xdim, ix+n])\n",
    "\n",
    "            min_y = np.max([0, iy-n])\n",
    "            max_y = np.min([ydim, iy+n])\n",
    "            \n",
    "            for z in range(len(ref_RC)):\n",
    "                iz = np.argmin(abs(ref_RC[z] - og_RC))\n",
    "                data[z, i, j] = np.nanmean(og[iz, min_y:max_y, min_x, max_x])\n",
    "                \n",
    "    return data"
   ]
  },
  {
   "cell_type": "markdown",
   "id": "temporal-authority",
   "metadata": {},
   "source": [
    "# SOHI"
   ]
  },
  {
   "cell_type": "code",
   "execution_count": 6,
   "id": "agreed-rebecca",
   "metadata": {},
   "outputs": [
    {
     "name": "stderr",
     "output_type": "stream",
     "text": [
      "100%|█████████████████████████████████████████████| 11/11 [16:16<00:00, 88.74s/it]\n",
      "  0%|                                                     | 0/761 [00:00<?, ?it/s]/tmp/ipykernel_613391/3323079040.py:11: UserWarning: Warning: converting a masked element to nan.\n",
      "  data[z, i, j] = og[iz, iy, ix]\n",
      "100%|███████████████████████████████████████████| 761/761 [18:58<00:00,  1.50s/it]\n",
      "100%|█████████████████████████████████████████████| 11/11 [14:03<00:00, 76.66s/it]\n",
      "100%|███████████████████████████████████████████| 761/761 [19:33<00:00,  1.54s/it]\n"
     ]
    }
   ],
   "source": [
    "## SOHI \n",
    "directory = '/data/SO2/SO24/ANDY/SOHI/Data/Models/SOHI/Monthly_Mean'\n",
    "fn = ['2005_10','2005_11','2005_12','2006_01','2006_02', '2006_03', '2006_04','2006_05','2006_06',\n",
    "     '2006_07','2006_08','2006_09']\n",
    "indices = np.load('data_indices/SOHI.npy')\n",
    "idy = indices[0]\n",
    "idx = indices[1]\n",
    "\n",
    "## THETA\n",
    "cube = nc.Dataset(f\"{directory}/{fn[0]}.nc\")\n",
    "data = cube['THETA'][0,:,:,:]\n",
    "\n",
    "for f in tqdm(range(1,len(fn))):\n",
    "    cube = nc.Dataset(f\"{directory}/{fn[f]}.nc\")\n",
    "    data = data + cube['THETA'][0,:,:,:]\n",
    "    \n",
    "data = data/12\n",
    "\n",
    "nf = mapp(og = data,\n",
    "             og_RC = cube['depth'][:],\n",
    "             ref_RC = DEPTHS,\n",
    "             idy = idy,\n",
    "             idx = idx,\n",
    "             n = 2)\n",
    "\n",
    "np.save(f'maps/SOHI_T.npy', nf)\n",
    "    \n",
    "## SALT\n",
    "cube = nc.Dataset(f\"{directory}/{fn[f]}.nc\")\n",
    "data = cube['SALT'][0,:,:,:]\n",
    "\n",
    "for f in tqdm(range(1,len(fn))):\n",
    "    cube = nc.Dataset(f\"{directory}/{fn[f]}.nc\")\n",
    "    data = data + cube['SALT'][0,:,:,:]\n",
    "    \n",
    "data = data/12\n",
    "\n",
    "nf = mapp(og = data,\n",
    "             og_RC = cube['depth'][:],\n",
    "             ref_RC = DEPTHS,\n",
    "             idy = idy,\n",
    "             idx = idx)\n",
    "\n",
    "np.save(f'maps/SOHI_S.npy', nf)"
   ]
  },
  {
   "cell_type": "code",
   "execution_count": 8,
   "id": "incorporated-begin",
   "metadata": {},
   "outputs": [],
   "source": [
    "import h5py\n",
    "\n",
    "import sys\n",
    "sys.path.insert(0,'/data/SO2/SO24/ANDY/SOHI/scripts')\n",
    "import data_paths\n",
    "import gc"
   ]
  },
  {
   "cell_type": "code",
   "execution_count": 9,
   "id": "a3424af2",
   "metadata": {},
   "outputs": [
    {
     "data": {
      "text/plain": [
       "217"
      ]
     },
     "execution_count": 9,
     "metadata": {},
     "output_type": "execute_result"
    }
   ],
   "source": [
    "del data\n",
    "gc.collect()"
   ]
  },
  {
   "cell_type": "markdown",
   "id": "federal-grove",
   "metadata": {},
   "source": [
    "# LLC4320"
   ]
  },
  {
   "cell_type": "code",
   "execution_count": 17,
   "id": "adjacent-helmet",
   "metadata": {},
   "outputs": [
    {
     "name": "stderr",
     "output_type": "stream",
     "text": [
      "100%|████████████████████████████████████████████| 11/11 [41:13<00:00, 224.88s/it]\n",
      "  0%|                                                     | 0/761 [00:00<?, ?it/s]/tmp/ipykernel_613391/3323079040.py:11: UserWarning: Warning: converting a masked element to nan.\n",
      "  data[z, i, j] = og[iz, iy, ix]\n",
      "100%|███████████████████████████████████████████| 761/761 [19:25<00:00,  1.53s/it]\n",
      "100%|████████████████████████████████████████████| 11/11 [29:57<00:00, 163.43s/it]\n",
      "100%|███████████████████████████████████████████| 761/761 [19:16<00:00,  1.52s/it]\n"
     ]
    }
   ],
   "source": [
    "directory = '/data/SO2/SO24/ANDY/SOHI/Data/Models/LLC4320/Monthly_Mean'\n",
    "fn = ['2011_10', '2011_11', '2011_12', '2012_01', '2012_02', '2012_03', '2012_04', '2012_05', '2012_06',\n",
    "     '2012_07', '2012_08', '2012_09']\n",
    "indices = np.load('data_indices/LLC4320.npy')\n",
    "idy = indices[0][0]\n",
    "idx = indices[1][0]\n",
    "\n",
    "## THETA\n",
    "cube = nc.Dataset(f\"{directory}/{fn[0]}.nc\")\n",
    "data = cube['Theta'][:,:,:]\n",
    "\n",
    "for f in tqdm(range(1,len(fn))):\n",
    "    cube = nc.Dataset(f\"{directory}/{fn[f]}.nc\")\n",
    "    data = data + cube['Theta'][:,:,:]\n",
    "    \n",
    "data = data/12\n",
    "\n",
    "nf = mapp(og = data,\n",
    "             og_RC = cube['depth'][:],\n",
    "             ref_RC = DEPTHS,\n",
    "             idy = idy,\n",
    "             idx = idx)\n",
    "\n",
    "np.save(f'maps/LLC_T.npy', nf)\n",
    "    \n",
    "## SALT\n",
    "cube = nc.Dataset(f\"{directory}/{fn[f]}.nc\")\n",
    "data = cube['Salt'][:,:,:]\n",
    "\n",
    "for f in tqdm(range(1,len(fn))):\n",
    "    cube = nc.Dataset(f\"{directory}/{fn[f]}.nc\")\n",
    "    data = data + cube['Salt'][:,:,:]\n",
    "    \n",
    "data = data/12\n",
    "\n",
    "nf = mapp(og = data,\n",
    "             og_RC = cube['depth'][:],\n",
    "             ref_RC = DEPTHS,\n",
    "             idy = idy,\n",
    "             idx = idx)\n",
    "\n",
    "np.save(f'maps/LLC_S.npy', nf)"
   ]
  },
  {
   "cell_type": "markdown",
   "id": "double-belgium",
   "metadata": {},
   "source": [
    "# SOSE"
   ]
  },
  {
   "cell_type": "code",
   "execution_count": 18,
   "id": "plain-bottom",
   "metadata": {},
   "outputs": [
    {
     "name": "stderr",
     "output_type": "stream",
     "text": [
      "100%|█████████████████████████████████████████████| 11/11 [00:11<00:00,  1.01s/it]\n",
      "  1%|▍                                            | 7/761 [00:10<17:50,  1.42s/it]/tmp/ipykernel_613391/3323079040.py:11: UserWarning: Warning: converting a masked element to nan.\n",
      "  data[z, i, j] = og[iz, iy, ix]\n",
      "100%|███████████████████████████████████████████| 761/761 [18:30<00:00,  1.46s/it]\n",
      "100%|█████████████████████████████████████████████| 11/11 [00:08<00:00,  1.31it/s]\n",
      "100%|███████████████████████████████████████████| 761/761 [18:31<00:00,  1.46s/it]\n"
     ]
    }
   ],
   "source": [
    "cube = nc.Dataset('/data/SO2/SO24/ANDY/SOHI/Data/Models/SOSE/SOSE_iter100.nc')\n",
    "RC = cube['depth'][:]\n",
    "indices = np.load('data_indices/SOSE.npy')\n",
    "idy = indices[0]\n",
    "idx = indices[1]\n",
    "\n",
    "tindex = [8, 9, 10, 11, 12, 13, 14, 15, 16, 17, 18, 19]\n",
    "fn = ['2005_09','2005_10','2005_11','2005_12','2006_01','2006_02','2006_03','2006_04','2006_05',\n",
    "     '2006_06','2006_07','2006_08']\n",
    "\n",
    "## THETA\n",
    "data = cube['THETA'][tindex[0],:,:,:]\n",
    "\n",
    "for f in tqdm(range(1,len(tindex))):\n",
    "    data = data + cube['THETA'][tindex[f],:,:,:]\n",
    "    \n",
    "data = data/12\n",
    "\n",
    "nf = mapp(og = data,\n",
    "             og_RC = cube['depth'][:],\n",
    "             ref_RC = DEPTHS,\n",
    "             idy = idy,\n",
    "             idx = idx)\n",
    "\n",
    "np.save(f'maps/SOSE_T.npy', nf)\n",
    "    \n",
    "## SALT\n",
    "data = cube['SALT'][tindex[0],:,:,:]\n",
    "\n",
    "for f in tqdm(range(1,len(tindex))):\n",
    "    data = data + cube['SALT'][tindex[f],:,:,:]\n",
    "    \n",
    "data = data/12\n",
    "\n",
    "nf = mapp(og = data,\n",
    "             og_RC = cube['depth'][:],\n",
    "             ref_RC = DEPTHS,\n",
    "             idy = idy,\n",
    "             idx = idx)\n",
    "\n",
    "np.save(f'maps/SOSE_S.npy', nf)"
   ]
  },
  {
   "cell_type": "markdown",
   "id": "handmade-yugoslavia",
   "metadata": {},
   "source": [
    "# LLC90"
   ]
  },
  {
   "cell_type": "code",
   "execution_count": null,
   "id": "knowing-exemption",
   "metadata": {},
   "outputs": [
    {
     "name": "stderr",
     "output_type": "stream",
     "text": [
      "100%|█████████████████████████████████████████████| 11/11 [00:13<00:00,  1.26s/it]\n",
      "  9%|███▉                                        | 68/761 [01:37<16:36,  1.44s/it]/tmp/ipykernel_613391/3323079040.py:11: UserWarning: Warning: converting a masked element to nan.\n",
      "  data[z, i, j] = og[iz, iy, ix]\n",
      "100%|███████████████████████████████████████████| 761/761 [18:30<00:00,  1.46s/it]\n",
      "100%|█████████████████████████████████████████████| 11/11 [00:13<00:00,  1.20s/it]\n",
      " 64%|███████████████████████████▋               | 490/761 [11:57<06:39,  1.48s/it]"
     ]
    }
   ],
   "source": [
    "cube = nc.Dataset('/data/SO2/SO24/ANDY/SOHI/Data/Models/ECCO/LLC90_v4r4.nc')\n",
    "indices = np.load('data_indices/LLC90.npy')\n",
    "idy = indices[0][0]\n",
    "idx = indices[1][0]\n",
    "\n",
    "tindex = [165, 166, 167, 168, 169, 170, 171, 172, 183, 174, 175, 176]\n",
    "fn = ['2005_10','2005_11','2005_12','2006_01','2006_02','2006_03','2006_04','2006_05','2006_06',\n",
    "      '2006_07','2006_08', '2006_09']\n",
    "\n",
    "## THETA\n",
    "data = cube['THETA'][tindex[0],:,:,:]\n",
    "\n",
    "for f in tqdm(range(1,len(tindex))):\n",
    "    data = data + cube['THETA'][tindex[f],:,:,:]\n",
    "    \n",
    "data = data/12\n",
    "\n",
    "nf = mapp(og = data,\n",
    "             og_RC = cube['depth'][:],\n",
    "             ref_RC = DEPTHS,\n",
    "             idy = idy,\n",
    "             idx = idx)\n",
    "\n",
    "np.save(f'maps/ECCO_T.npy', nf)\n",
    "    \n",
    "## SALT\n",
    "data = cube['SALT'][tindex[0],:,:,:]\n",
    "\n",
    "for f in tqdm(range(1,len(tindex))):\n",
    "    data = data + cube['SALT'][tindex[f],:,:,:]\n",
    "    \n",
    "data = data/12\n",
    "\n",
    "nf = mapp(og = data,\n",
    "             og_RC = cube['depth'][:],\n",
    "             ref_RC = DEPTHS,\n",
    "             idy = idy,\n",
    "             idx = idx)\n",
    "\n",
    "np.save(f'maps/ECCO_S.npy', nf)"
   ]
  },
  {
   "cell_type": "markdown",
   "id": "premier-explorer",
   "metadata": {},
   "source": [
    "### Region_Mask"
   ]
  },
  {
   "cell_type": "code",
   "execution_count": 3,
   "id": "92c0a284",
   "metadata": {},
   "outputs": [],
   "source": [
    "def mapp2D(og, idy, idx):\n",
    "    data = np.zeros((761,761))\n",
    "    count = 0\n",
    "    for i in tqdm(range(761)):\n",
    "        for j in range(761):\n",
    "            iy = idy[count]\n",
    "            ix = idx[count]\n",
    "            \n",
    "\n",
    "            data[i, j] = og[iy, ix]\n",
    "                \n",
    "            count += 1\n",
    "    return data"
   ]
  },
  {
   "cell_type": "code",
   "execution_count": 13,
   "id": "b66451c9",
   "metadata": {},
   "outputs": [
    {
     "data": {
      "text/plain": [
       "(2, 1, 579121)"
      ]
     },
     "execution_count": 13,
     "metadata": {},
     "output_type": "execute_result"
    }
   ],
   "source": [
    "indices.shape"
   ]
  },
  {
   "cell_type": "code",
   "execution_count": 25,
   "id": "infectious-gauge",
   "metadata": {},
   "outputs": [
    {
     "name": "stderr",
     "output_type": "stream",
     "text": [
      "100%|███████████████████████████████████████████████████████| 761/761 [00:00<00:00, 2048.67it/s]\n"
     ]
    }
   ],
   "source": [
    "mask = np.load('/data/SO2/SO24/ANDY/SOHI/Notebooks/1_SOHI_Eval/99_HeatTransport_Eval/data_stair_stepping/ECCO_mask.npy')\n",
    "indices = np.load('map_index/LLC90.npy')\n",
    "\n",
    "idy = indices[0,0]\n",
    "idx = indices[1,0]\n",
    "\n",
    "\n",
    "new_mask = np.zeros((761,761))\n",
    "count = 0\n",
    "for i in tqdm(range(761)):\n",
    "    for j in range(761):\n",
    "        iy = idy[count]\n",
    "        ix = idx[count]\n",
    "            \n",
    "\n",
    "        new_mask[i, j] = mask[iy, ix]\n",
    "                \n",
    "        count += 1\n",
    "    "
   ]
  },
  {
   "cell_type": "code",
   "execution_count": 26,
   "id": "derived-oliver",
   "metadata": {},
   "outputs": [],
   "source": [
    "import matplotlib.pyplot as plt"
   ]
  },
  {
   "cell_type": "code",
   "execution_count": 27,
   "id": "coordinate-knock",
   "metadata": {},
   "outputs": [
    {
     "data": {
      "text/plain": [
       "<matplotlib.collections.QuadMesh at 0x7f5c2c630fa0>"
      ]
     },
     "execution_count": 27,
     "metadata": {},
     "output_type": "execute_result"
    },
    {
     "data": {
      "image/png": "[encoded data removed]",
      "text/plain": [
       "<Figure size 2000x2000 with 1 Axes>"
      ]
     },
     "metadata": {},
     "output_type": "display_data"
    }
   ],
   "source": [
    "fig, ax = plt.subplots(figsize=(20,20))\n",
    "ax.pcolormesh(new_mask)"
   ]
  },
  {
   "cell_type": "code",
   "execution_count": 28,
   "id": "atlantic-calendar",
   "metadata": {},
   "outputs": [],
   "source": [
    "np.save(\"ECCO_mask.npy\", new_mask)"
   ]
  },
  {
   "cell_type": "markdown",
   "id": "inappropriate-terry",
   "metadata": {},
   "source": []
  },
  {
   "cell_type": "code",
   "execution_count": 12,
   "id": "driven-blocking",
   "metadata": {},
   "outputs": [],
   "source": [
    "import h5py"
   ]
  },
  {
   "cell_type": "code",
   "execution_count": 24,
   "id": "fe1c4318",
   "metadata": {},
   "outputs": [
    {
     "data": {
      "text/plain": [
       "-3001.999755859375"
      ]
     },
     "execution_count": 24,
     "metadata": {},
     "output_type": "execute_result"
    }
   ],
   "source": [
    "np.nanmin(IS)"
   ]
  },
  {
   "cell_type": "code",
   "execution_count": 25,
   "id": "alternative-sunglasses",
   "metadata": {},
   "outputs": [],
   "source": [
    "bath = h5py.File(data_paths.grid)\n",
    "bath = -bath['Depth'][:2344, :]\n",
    "\n",
    "IS = h5py.File('/data/SO2/SO24/ANDY/SOHI/Data/Models/SOHI/meta/ICEDRAFT_v8.mat')\n",
    "IS = IS['Ice_Map'][:2344, :]\n",
    "\n",
    "bath = bath + IS\n",
    "\n",
    "indices = np.load('data_indices/SOHI.npy')\n",
    "idy = indices[0]\n",
    "idx = indices[1]\n",
    "\n",
    "# bath = - np.load(\"/data/SO2/SO24/ANDY/SOHI/Data/Models/LLC4320/meta/bathymetry.npy\")\n",
    "# indices = np.load('data_indices/LLC4320.npy')\n",
    "# idy = indices[0][0]\n",
    "# idx = indices[1][0]\n",
    "\n",
    "# bath = np.load('/data/SO2/SO24/ANDY/SOHI/Data/Models/SOSE/Bathymetry.npy')\n",
    "# indices = np.load('data_indices/SOSE.npy')\n",
    "# idy = indices[0]\n",
    "# idx = indices[1]\n",
    "\n",
    "# bath = np.load(\"/data/SO2/SO24/ANDY/SOHI/Data/Models/ECCO/LLC90_bath.npy\")\n",
    "# indices = np.load('data_indices/LLC90.npy')\n",
    "# idy = indices[0][0]\n",
    "# idx = indices[1][0]\n",
    "\n",
    "# IS = h5py.File('/data/SO2/SO24/ANDY/SOHI/Data/Models/SOHI/meta/ICEDRAFT_v8.mat')\n",
    "# IS = IS['Ice_Map'][:]\n",
    "# IS[IS != 0] = 1\n",
    "# indices = np.load('data_indices/SOHI.npy')\n",
    "# idy = indices[0]\n",
    "# idx = indices[1]"
   ]
  },
  {
   "cell_type": "code",
   "execution_count": 26,
   "id": "arbitrary-davis",
   "metadata": {},
   "outputs": [
    {
     "name": "stderr",
     "output_type": "stream",
     "text": [
      "100%|█████████████████████████████████████████| 761/761 [00:00<00:00, 2052.33it/s]\n"
     ]
    }
   ],
   "source": [
    "new_bath = mapp2D(og = bath,\n",
    "             idy = idy,\n",
    "             idx = idx)"
   ]
  },
  {
   "cell_type": "code",
   "execution_count": 27,
   "id": "former-overall",
   "metadata": {},
   "outputs": [],
   "source": [
    "np.save(f'maps/SOHI_Bathymetry.npy', new_bath)"
   ]
  }
 ],
 "metadata": {
  "kernelspec": {
   "display_name": "Python 3 (ipykernel)",
   "language": "python",
   "name": "python3"
  },
  "language_info": {
   "codemirror_mode": {
    "name": "ipython",
    "version": 3
   },
   "file_extension": ".py",
   "mimetype": "text/x-python",
   "name": "python",
   "nbconvert_exporter": "python",
   "pygments_lexer": "ipython3",
   "version": "3.9.16"
  }
 },
 "nbformat": 4,
 "nbformat_minor": 5
}
